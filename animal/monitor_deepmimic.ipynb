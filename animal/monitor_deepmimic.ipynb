{
 "cells": [
  {
   "cell_type": "code",
   "execution_count": 2,
   "metadata": {},
   "outputs": [
    {
     "data": {
      "text/plain": [
       "<Figure size 792x792 with 0 Axes>"
      ]
     },
     "metadata": {},
     "output_type": "display_data"
    },
    {
     "data": {
      "image/png": "[encoded data removed]",
      "text/plain": [
       "<Figure size 1080x648 with 1 Axes>"
      ]
     },
     "metadata": {
      "needs_background": "light"
     },
     "output_type": "display_data"
    }
   ],
   "source": [
    "from  glob import glob\n",
    "from time import sleep\n",
    "from baselines.bench import load_results\n",
    "from matplotlib import pylab as plt\n",
    "import numpy as np\n",
    "import argparse\n",
    "import os\n",
    "import pandas as pd\n",
    "\n",
    "\n",
    "num_good_traj = 0\n",
    "my_dir = '/workspace8/gabriele/RUNS/deep_mimic_1'\n",
    "exps = glob(my_dir+'*')\n",
    "d = exps[0]\n",
    "df = load_results(d)\n",
    "\n",
    "\n",
    "\n",
    "\n",
    "df2 = pd.DataFrame() \n",
    "\n",
    "df['f']= df['l'].cumsum()/1000000\n",
    "\n",
    "\n",
    "df['perf']= df['r']\n",
    "df['perf'].where(df['perf']>0,0,inplace=True)\n",
    "df['goal'] = df['perf']>0.9  #guess a threadshold\n",
    "\n",
    "\n",
    "\n",
    "\n",
    "my_dir = '/workspace8/gabriele/RUNS/exp_breakout_306'\n",
    "exps = glob(my_dir+'*')\n",
    "d = exps[0]\n",
    "df_ = load_results(d)\n",
    "\n",
    "\n",
    "\n",
    "fig = plt.figure(clear=True, figsize=(11,11))\n",
    "\n",
    "df3 = pd.DataFrame() \n",
    "\n",
    "df_['f']= df_['l'].cumsum()/1000000\n",
    "\n",
    "\n",
    "df_['perf']= df_['r']\n",
    "df_['perf'].where(df_['perf']>0,0,inplace=True)\n",
    "df_['goal'] = df_['perf']>0.9  #guess a threadshold\n",
    "\n",
    "\n",
    "\n",
    "time_limit = 0\n",
    "fig = plt.figure(clear=True, figsize=(15,9))\n",
    "\n",
    "\n",
    "roll = 1000\n",
    "total_time = df['t'].iloc[-1]\n",
    "total_steps = df['l'].sum()\n",
    "total_episodes = df['r'].size\n",
    "\n",
    "ax = plt.subplot(2, 2, 1)\n",
    "ax.set_title(' {} total time: {:.1f} h FPS {:.1f}'.format(d.upper(),total_time/3600, total_steps/total_time))\n",
    "df[['f','r']].rolling(roll).mean().iloc[0:-1:40].plot('f','r',  ax=ax,legend=False)\n",
    "#df_[['f','rr']].rolling(roll).mean().iloc[0:-1:40].plot('f','rr',  ax=ax,legend=False)\n",
    "ax.set_xlabel('N. steps (M)')\n",
    "ax.set_ylabel('Reward')\n",
    "#plt.xlim((0, xlim_))\n",
    "ax.grid(True)\n",
    "\n",
    "# ax = plt.subplot(2, 2, 2)\n",
    "# df[['f','min_value']].rolling(roll).mean().iloc[0:-1:40].plot('f','min_value', ax=ax,legend=False)\n",
    "# df[['f','max_value']].rolling(roll).mean().iloc[0:-1:40].plot('f','max_value', ax=ax,legend=False)\n",
    "# df[['f','mean_value']].rolling(roll).mean().iloc[0:-1:40].plot('f','mean_value', ax=ax,legend=False)\n",
    "# ax.set_xlabel('N. steps (M)')\n",
    "# ax.set_ylabel('Min Value')\n",
    "# #plt.xlim((0, xlim_))\n",
    "# ax.grid(True)\n",
    "\n",
    "# ax = plt.subplot(2, 2, 3)\n",
    "# df2[['f_real','reward_woD']].rolling(roll).mean().iloc[0:-1:40].plot('f_real','reward_woD', ax=ax,legend=False)\n",
    "# df3[['f_real','reward_woD']].rolling(roll).mean().iloc[0:-1:40].plot('f_real','reward_woD', ax=ax,legend=False)\n",
    "# ax.set_xlabel('N. steps (M)')\n",
    "# ax.set_ylabel('Performance without Deomnstrations')\n",
    "# #plt.xlim((0, xlim_))\n",
    "# ax.grid(True)\n",
    "\n",
    "# ax = plt.subplot(2, 2, 4)\n",
    "# df[['l']].rolling(roll).mean().iloc[0:-1:40].plot(y='l', ax=ax,legend=False)\n",
    "# ax.set_xlabel('N. episodes')\n",
    "# ax.set_ylabel('Episode lenght')\n",
    "# #plt.xlim((0, xlim_))\n",
    "# ax.grid(True)"
   ]
  },
  {
   "cell_type": "code",
   "execution_count": null,
   "metadata": {},
   "outputs": [],
   "source": []
  }
 ],
 "metadata": {
  "kernelspec": {
   "display_name": "Python [conda env:animal] *",
   "language": "python",
   "name": "conda-env-animal-py"
  },
  "language_info": {
   "codemirror_mode": {
    "name": "ipython",
    "version": 3
   },
   "file_extension": ".py",
   "mimetype": "text/x-python",
   "name": "python",
   "nbconvert_exporter": "python",
   "pygments_lexer": "ipython3",
   "version": "3.6.9"
  }
 },
 "nbformat": 4,
 "nbformat_minor": 2
}
