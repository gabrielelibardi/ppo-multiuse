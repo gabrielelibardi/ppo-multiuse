{
 "cells": [
  {
   "cell_type": "code",
   "execution_count": 4,
   "metadata": {},
   "outputs": [],
   "source": [
    "from animal.vision_module import ImpalaCNNBase"
   ]
  },
  {
   "cell_type": "code",
   "execution_count": null,
   "metadata": {},
   "outputs": [],
   "source": [
    "vision_model= ImpalaCNNBase.load(\"/path/to/checkpoint\")"
   ]
  },
  {
   "cell_type": "markdown",
   "metadata": {},
   "source": [
    "## Vision module usage:\n",
    "\n",
    "RUN python vision_collect_data.py --target_dir ´/target/data/directory´ to collect a dataset.\n",
    "\n",
    "RUN python vision_train.py --data_dir ´/origin/data/directory´ --logs_dir ´/target/logs/directory´ to train a vision network."
   ]
  },
  {
   "cell_type": "markdown",
   "metadata": {},
   "source": [
    "## Trained network\n",
    "\n",
    "A trained network checkpoint can be found in ckpt_path=\"/workspace7/Unity3D/albert/vision_module_logs/model_249.ckpt\".\n",
    "\n",
    "which can be loaded with the following code snippet:\n",
    "\n",
    "```python\n",
    "\n",
    "from animal.vision_module import ImpalaCNNBase\n",
    "\n",
    "vision_model= ImpalaCNNBase.load(\"/path/to/checkpoint\")\n",
    "\n",
    "```\n",
    "\n",
    "\n",
    "\n",
    "The network expects:\n",
    "\n",
    " - Observations inputs with shape (batch_size, 3, 84, 84) \n",
    " \n",
    "\n",
    "\n",
    "The network returns 3 things:\n",
    " \n",
    " - Position prediction of shape (batch_size, 3), with the first 2 positions being x and y coordinates respectively (in range [0, 40]) and the last position being the rotation angle in degrees [0, 360].\n",
    " \n",
    " - RNN inner state if the network has been trained with recurrence (No the case for the network in ckpt_path).\n",
    " \n",
    " - deep features before the position prediction (output of the cnn)."
   ]
  },
  {
   "cell_type": "code",
   "execution_count": null,
   "metadata": {},
   "outputs": [],
   "source": []
  }
 ],
 "metadata": {
  "kernelspec": {
   "display_name": "Python 2",
   "language": "python",
   "name": "python2"
  },
  "language_info": {
   "codemirror_mode": {
    "name": "ipython",
    "version": 2
   },
   "file_extension": ".py",
   "mimetype": "text/x-python",
   "name": "python",
   "nbconvert_exporter": "python",
   "pygments_lexer": "ipython2",
   "version": "2.7.10"
  }
 },
 "nbformat": 4,
 "nbformat_minor": 2
}
