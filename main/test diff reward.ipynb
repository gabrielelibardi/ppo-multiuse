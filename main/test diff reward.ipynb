{
 "cells": [
  {
   "cell_type": "code",
   "execution_count": 24,
   "metadata": {},
   "outputs": [],
   "source": [
    "import torch \n",
    "import torch.nn as nn\n",
    "import torch.nn.functional as F\n",
    "\n",
    "class MyLinearLayer(nn.Module):\n",
    "    \"\"\" Custom Linear layer but mimics a standard linear layer \"\"\"\n",
    "    def __init__(self, size_state, size_action, size_out= 1):\n",
    "        super().__init__()\n",
    "        #self.size_in, self.size_out = size_in, size_out\n",
    "\n",
    "    def forward(self, state, prev_state,  action):\n",
    "        state_term_1 = torch.sqrt(state[:,0]*state[:,0] + state[:,1]*state[:,1])\n",
    "        state_term_2 = torch.sqrt(state[:,2]*state[:,2] + state[:,3]*state[:,3])\n",
    "        state_term_3 = torch.abs(state[:,4])\n",
    "        state_term_4 = state[:,6]\n",
    "        state_term_5 = state[:,7]\n",
    "        #state_term_6 = state[0]\n",
    "        #state_term_7 = state[1]\n",
    "        #state_term_8 = state[2]\n",
    "        #state_term_9 = state[3]\n",
    "\n",
    "        prev_state_term_1 = torch.sqrt(prev_state[:,0]*prev_state[:,0] + prev_state[:,1]*prev_state[:,1])\n",
    "        prev_state_term_2 = torch.sqrt(prev_state[:,2]*prev_state[:,2] + prev_state[:,3]*prev_state[:,3])\n",
    "        prev_state_term_3 = torch.abs(prev_state[:,4])\n",
    "        prev_state_term_4 = prev_state[:,6]\n",
    "        prev_state_term_5 = prev_state[:,7]\n",
    "        #prev_state_term_6 = prev_state[0]\n",
    "        #prev_state_term_7 = prev_state[1]\n",
    "        #prev_state_term_8 = prev_state[2]\n",
    "        #prev_state_term_9 = prev_state[3]\n",
    "        action = action.squeeze(dim=1)\n",
    "        mask = action == 2\n",
    "        action_term_1 = mask.float()*1.0\n",
    "        \n",
    "        mask = (action == 3)+(action == 1)\n",
    "        action_term_2 = mask.float()*1.0 \n",
    "        \n",
    "        shape = - 100*state_term_1 - 100*state_term_2 - 100*state_term_3 + 10*state_term_4 + 10*state_term_5\n",
    "        prev_shape = - 100*prev_state_term_1 - 100*prev_state_term_2 - 100*prev_state_term_3 + 10*prev_state_term_4 + 10*prev_state_term_5\n",
    "        \n",
    "        reward = shape - 0.30*action_term_1 - 0.03*action_term_2\n",
    "        return reward.unsqueeze(1)"
   ]
  },
  {
   "cell_type": "code",
   "execution_count": 25,
   "metadata": {},
   "outputs": [],
   "source": [
    "my_layer = MyLinearLayer(10,10)\n",
    "actions = torch.randint(6, [100,1])\n",
    "obs = torch.rand([100,32])\n",
    "prev_obs = torch.rand([100,32])\n",
    "rewards = my_layer(obs, prev_obs, actions)"
   ]
  },
  {
   "cell_type": "code",
   "execution_count": 26,
   "metadata": {},
   "outputs": [
    {
     "data": {
      "text/plain": [
       "torch.Size([100, 1])"
      ]
     },
     "execution_count": 26,
     "metadata": {},
     "output_type": "execute_result"
    }
   ],
   "source": [
    "rewards.shape\n"
   ]
  },
  {
   "cell_type": "code",
   "execution_count": null,
   "metadata": {},
   "outputs": [],
   "source": []
  }
 ],
 "metadata": {
  "kernelspec": {
   "display_name": "Python [conda env:animal] *",
   "language": "python",
   "name": "conda-env-animal-py"
  },
  "language_info": {
   "codemirror_mode": {
    "name": "ipython",
    "version": 3
   },
   "file_extension": ".py",
   "mimetype": "text/x-python",
   "name": "python",
   "nbconvert_exporter": "python",
   "pygments_lexer": "ipython3",
   "version": "3.6.9"
  }
 },
 "nbformat": 4,
 "nbformat_minor": 4
}
